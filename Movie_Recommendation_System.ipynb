{
 "cells": [
  {
   "cell_type": "code",
   "execution_count": 1,
   "id": "cbf854db-f350-443b-9a6b-052f198f027a",
   "metadata": {},
   "outputs": [],
   "source": [
    "import numpy as np\n",
    "import pandas as pd\n",
    "import matplotlib.pyplot as plt\n",
    "from sklearn.feature_extraction.text import TfidfVectorizer\n",
    "from sklearn.metrics.pairwise import cosine_similarity\n",
    "from sklearn.compose import ColumnTransformer\n",
    "import ast #This is used to parse strings that look like python objects into actual python objects"
   ]
  },
  {
   "cell_type": "code",
   "execution_count": 2,
   "id": "b1c872a1-7e87-47a1-a6b7-f711702aca69",
   "metadata": {},
   "outputs": [
    {
     "data": {
      "text/html": [
       "<div>\n",
       "<style scoped>\n",
       "    .dataframe tbody tr th:only-of-type {\n",
       "        vertical-align: middle;\n",
       "    }\n",
       "\n",
       "    .dataframe tbody tr th {\n",
       "        vertical-align: top;\n",
       "    }\n",
       "\n",
       "    .dataframe thead th {\n",
       "        text-align: right;\n",
       "    }\n",
       "</style>\n",
       "<table border=\"1\" class=\"dataframe\">\n",
       "  <thead>\n",
       "    <tr style=\"text-align: right;\">\n",
       "      <th></th>\n",
       "      <th>title</th>\n",
       "      <th>overview</th>\n",
       "      <th>genres</th>\n",
       "      <th>vote_average</th>\n",
       "    </tr>\n",
       "  </thead>\n",
       "  <tbody>\n",
       "    <tr>\n",
       "      <th>0</th>\n",
       "      <td>Avatar</td>\n",
       "      <td>In the 22nd century, a paraplegic Marine is di...</td>\n",
       "      <td>[Action, Adventure, Fantasy, Science Fiction]</td>\n",
       "      <td>7.2</td>\n",
       "    </tr>\n",
       "    <tr>\n",
       "      <th>1</th>\n",
       "      <td>Pirates of the Caribbean: At World's End</td>\n",
       "      <td>Captain Barbossa, long believed to be dead, ha...</td>\n",
       "      <td>[Adventure, Fantasy, Action]</td>\n",
       "      <td>6.9</td>\n",
       "    </tr>\n",
       "    <tr>\n",
       "      <th>2</th>\n",
       "      <td>Spectre</td>\n",
       "      <td>A cryptic message from Bond’s past sends him o...</td>\n",
       "      <td>[Action, Adventure, Crime]</td>\n",
       "      <td>6.3</td>\n",
       "    </tr>\n",
       "    <tr>\n",
       "      <th>3</th>\n",
       "      <td>The Dark Knight Rises</td>\n",
       "      <td>Following the death of District Attorney Harve...</td>\n",
       "      <td>[Action, Crime, Drama, Thriller]</td>\n",
       "      <td>7.6</td>\n",
       "    </tr>\n",
       "    <tr>\n",
       "      <th>4</th>\n",
       "      <td>John Carter</td>\n",
       "      <td>John Carter is a war-weary, former military ca...</td>\n",
       "      <td>[Action, Adventure, Science Fiction]</td>\n",
       "      <td>6.1</td>\n",
       "    </tr>\n",
       "  </tbody>\n",
       "</table>\n",
       "</div>"
      ],
      "text/plain": [
       "                                      title  \\\n",
       "0                                    Avatar   \n",
       "1  Pirates of the Caribbean: At World's End   \n",
       "2                                   Spectre   \n",
       "3                     The Dark Knight Rises   \n",
       "4                               John Carter   \n",
       "\n",
       "                                            overview  \\\n",
       "0  In the 22nd century, a paraplegic Marine is di...   \n",
       "1  Captain Barbossa, long believed to be dead, ha...   \n",
       "2  A cryptic message from Bond’s past sends him o...   \n",
       "3  Following the death of District Attorney Harve...   \n",
       "4  John Carter is a war-weary, former military ca...   \n",
       "\n",
       "                                          genres  vote_average  \n",
       "0  [Action, Adventure, Fantasy, Science Fiction]           7.2  \n",
       "1                   [Adventure, Fantasy, Action]           6.9  \n",
       "2                     [Action, Adventure, Crime]           6.3  \n",
       "3               [Action, Crime, Drama, Thriller]           7.6  \n",
       "4           [Action, Adventure, Science Fiction]           6.1  "
      ]
     },
     "execution_count": 2,
     "metadata": {},
     "output_type": "execute_result"
    }
   ],
   "source": [
    "data = pd.read_csv(\"tmdb_5000_movies.csv\")\n",
    "df = pd.DataFrame()\n",
    "df['title'] = data['title']\n",
    "df['overview'] = data['overview']\n",
    "df['overview'] = df['overview'].fillna(\"no overview available\")\n",
    "#The genres column is stored as a string but we want to use it like a dictionary which is why we use literal_eval to make that string\n",
    "#that is designed like a dictionary into an actual dictionary\n",
    "df['genres'] = data['genres'].apply(lambda x: [n[\"name\"] for n in ast.literal_eval(x)[:10]])\n",
    "df['vote_average'] = data['vote_average']\n",
    "\n",
    "df.head()"
   ]
  },
  {
   "cell_type": "code",
   "execution_count": 3,
   "id": "f22b2e7f-af11-4b2f-b515-ef22dae38273",
   "metadata": {},
   "outputs": [],
   "source": [
    "\n",
    "# TfidfVectorizer converts each movie overview into a numerical vector using Term Frequency–Inverse Document Frequency (TF-IDF).\n",
    "#     It assigns higher weights to words that are important in a specific overview but less common across all overviews.\n",
    "#     The result is a vector for each overview, where each dimension represents the importance of a word.\n",
    "#     This helps capture the unique meaning of each text while reducing the influence of common or uninformative words (like \"the\", \"movie\").\n",
    "pre_vectorization = df['overview'].copy()\n",
    "vectorizer = TfidfVectorizer()\n",
    "overview_vector = vectorizer.fit_transform(pre_vectorization)\n",
    "temp = vectorizer.get_feature_names_out()\n"
   ]
  },
  {
   "cell_type": "code",
   "execution_count": 4,
   "id": "9e54ae10-476a-4e8b-a4af-d425918888ea",
   "metadata": {},
   "outputs": [],
   "source": [
    "\n",
    "# cosine_similarity measures how similar two overviews are by computing the cosine of the angle between their TF-IDF vectors.\n",
    "#     A cosine similarity of 1 means the overviews are identical in terms of their content.\n",
    "#     A cosine similarity of 0 means they share no similarity.\n",
    "#     The output is a square matrix where entry [i][j] shows how similar overview i is to overview j.\n",
    "overview_similarity = cosine_similarity(overview_vector)\n"
   ]
  },
  {
   "cell_type": "code",
   "execution_count": 5,
   "id": "39dc4442-88c0-48a0-b0d6-32a36e5318fe",
   "metadata": {},
   "outputs": [],
   "source": [
    "def top_recommended(similarity_vector, top_n=5):\n",
    "    # Get pairs of (index, score), sort by score descending\n",
    "    scores = list(enumerate(similarity_vector))\n",
    "    scores = sorted(scores, key=lambda x: x[1], reverse=True)\n",
    "    \n",
    "    # Skip the first one (it's the movie itself)\n",
    "    top_indices = [i[0] for i in scores[1:top_n+1]]\n",
    "    return top_indices\n"
   ]
  },
  {
   "cell_type": "code",
   "execution_count": 6,
   "id": "4615b34a-7d79-4f8f-9c7f-604a94420922",
   "metadata": {},
   "outputs": [],
   "source": [
    "\n",
    "def recommended(movie_title, similarity_matrix):\n",
    "    movie_index = df[df['title'] == movie_title].index[0]\n",
    "    similarity_index = similarity_matrix[movie_index]\n",
    "    similar_movie_index = top_recommended(similarity_index,5)\n",
    "    #similar_movie = df['title'][similar_movie_index]\n",
    "    return similar_movie_index\n",
    "\n"
   ]
  },
  {
   "cell_type": "code",
   "execution_count": 7,
   "id": "a9c60c0e-0ed9-4004-9bf8-743736744bed",
   "metadata": {},
   "outputs": [
    {
     "name": "stdout",
     "output_type": "stream",
     "text": [
      "Get Carter\n",
      "The Marine 4: Moving Target\n",
      "The Hurricane\n",
      "Raising Cain\n",
      "Mad Max: Fury Road\n"
     ]
    }
   ],
   "source": [
    "\n",
    "recommended_movie = recommended('John Carter', overview_similarity)\n",
    "for y in recommended_movie:\n",
    "    print(df['title'][y])\n"
   ]
  },
  {
   "cell_type": "code",
   "execution_count": 8,
   "id": "743a2748-a9b8-4423-bf44-7c5cce38359a",
   "metadata": {},
   "outputs": [
    {
     "data": {
      "text/html": [
       "<div>\n",
       "<style scoped>\n",
       "    .dataframe tbody tr th:only-of-type {\n",
       "        vertical-align: middle;\n",
       "    }\n",
       "\n",
       "    .dataframe tbody tr th {\n",
       "        vertical-align: top;\n",
       "    }\n",
       "\n",
       "    .dataframe thead th {\n",
       "        text-align: right;\n",
       "    }\n",
       "</style>\n",
       "<table border=\"1\" class=\"dataframe\">\n",
       "  <thead>\n",
       "    <tr style=\"text-align: right;\">\n",
       "      <th></th>\n",
       "      <th>title</th>\n",
       "      <th>overview</th>\n",
       "      <th>genres</th>\n",
       "      <th>vote_average</th>\n",
       "    </tr>\n",
       "  </thead>\n",
       "  <tbody>\n",
       "    <tr>\n",
       "      <th>0</th>\n",
       "      <td>Avatar</td>\n",
       "      <td>In the 22nd century, a paraplegic Marine is di...</td>\n",
       "      <td>Action Adventure Fantasy Science Fiction</td>\n",
       "      <td>7.2</td>\n",
       "    </tr>\n",
       "    <tr>\n",
       "      <th>1</th>\n",
       "      <td>Pirates of the Caribbean: At World's End</td>\n",
       "      <td>Captain Barbossa, long believed to be dead, ha...</td>\n",
       "      <td>Adventure Fantasy Action</td>\n",
       "      <td>6.9</td>\n",
       "    </tr>\n",
       "    <tr>\n",
       "      <th>2</th>\n",
       "      <td>Spectre</td>\n",
       "      <td>A cryptic message from Bond’s past sends him o...</td>\n",
       "      <td>Action Adventure Crime</td>\n",
       "      <td>6.3</td>\n",
       "    </tr>\n",
       "    <tr>\n",
       "      <th>3</th>\n",
       "      <td>The Dark Knight Rises</td>\n",
       "      <td>Following the death of District Attorney Harve...</td>\n",
       "      <td>Action Crime Drama Thriller</td>\n",
       "      <td>7.6</td>\n",
       "    </tr>\n",
       "    <tr>\n",
       "      <th>4</th>\n",
       "      <td>John Carter</td>\n",
       "      <td>John Carter is a war-weary, former military ca...</td>\n",
       "      <td>Action Adventure Science Fiction</td>\n",
       "      <td>6.1</td>\n",
       "    </tr>\n",
       "  </tbody>\n",
       "</table>\n",
       "</div>"
      ],
      "text/plain": [
       "                                      title  \\\n",
       "0                                    Avatar   \n",
       "1  Pirates of the Caribbean: At World's End   \n",
       "2                                   Spectre   \n",
       "3                     The Dark Knight Rises   \n",
       "4                               John Carter   \n",
       "\n",
       "                                            overview  \\\n",
       "0  In the 22nd century, a paraplegic Marine is di...   \n",
       "1  Captain Barbossa, long believed to be dead, ha...   \n",
       "2  A cryptic message from Bond’s past sends him o...   \n",
       "3  Following the death of District Attorney Harve...   \n",
       "4  John Carter is a war-weary, former military ca...   \n",
       "\n",
       "                                      genres  vote_average  \n",
       "0   Action Adventure Fantasy Science Fiction           7.2  \n",
       "1                   Adventure Fantasy Action           6.9  \n",
       "2                     Action Adventure Crime           6.3  \n",
       "3                Action Crime Drama Thriller           7.6  \n",
       "4           Action Adventure Science Fiction           6.1  "
      ]
     },
     "execution_count": 8,
     "metadata": {},
     "output_type": "execute_result"
    }
   ],
   "source": [
    "#I built a movie recommendation system that uses multiple features\n",
    "#To make the vectorizer give higher scores to similar words across rows such that 'action' across multiple rows are more corellated \n",
    "#We use TfidfVectorizer(use_idf=False, norm=None) or CountVectorizer()\n",
    "transformer = ColumnTransformer(transformers=[\n",
    "    ('overview_transformed', TfidfVectorizer(), 'overview'),\n",
    "    ('genres_transformed', TfidfVectorizer(), 'genres'),\n",
    "    \n",
    "],\n",
    "                               )\n",
    "\n",
    "t_df = df.copy()#.drop('title', axis=1)\n",
    "tmp_genres = []\n",
    "\n",
    "for x in range(len(t_df['genres'])):\n",
    "    word_list = t_df['genres'][x]\n",
    "    word = \"\"\n",
    "    for y in range(len(word_list)):\n",
    "        word = word+\" \"+word_list[y]\n",
    "    tmp_genres.append(word)\n",
    "\n",
    "t_df['genres'] = tmp_genres\n",
    "t_df.head()"
   ]
  },
  {
   "cell_type": "code",
   "execution_count": 9,
   "id": "ef81639b-965b-4317-bbe4-b4fd7a674c69",
   "metadata": {},
   "outputs": [
    {
     "data": {
      "text/plain": [
       "(4803, 21284)"
      ]
     },
     "execution_count": 9,
     "metadata": {},
     "output_type": "execute_result"
    }
   ],
   "source": [
    "multi_fit_tf = transformer.fit_transform(t_df)\n",
    "multi_fit_tf.shape #This returns the number of rows, as well as the TfidfVectorizer representation(rows, TfidfVectorizer representation)"
   ]
  },
  {
   "cell_type": "code",
   "execution_count": 10,
   "id": "8e287239-c709-4241-be60-751b18b2bc4d",
   "metadata": {},
   "outputs": [],
   "source": [
    "multi_fit_tf_similarity = cosine_similarity(multi_fit_tf)"
   ]
  },
  {
   "cell_type": "code",
   "execution_count": 11,
   "id": "c6450951-fa93-4099-b817-cd2effcabcd9",
   "metadata": {},
   "outputs": [
    {
     "name": "stdout",
     "output_type": "stream",
     "text": [
      "The Helix... Loaded\n",
      "Captain America: The Winter Soldier\n",
      "Star Trek Into Darkness\n",
      "Captain America: The First Avenger\n",
      "Avengers: Age of Ultron\n"
     ]
    }
   ],
   "source": [
    "def multi_recommend(movie, multi_vector):\n",
    "    multi_movie_idx = t_df[t_df['title'] == movie].index[0]\n",
    "    tmp_multi_vector = list(enumerate(multi_vector[multi_movie_idx]))\n",
    "    sort_ed = sorted(tmp_multi_vector, key=lambda x:x[1], reverse=True)\n",
    "    top_mov = [x[0] for x in sort_ed[1:6]]\n",
    "    return top_mov\n",
    "\n",
    "mov_idx = multi_recommend('John Carter', multi_fit_tf_similarity)\n",
    "for x in mov_idx:\n",
    "    print(t_df['title'][x])\n"
   ]
  }
 ],
 "metadata": {
  "kernelspec": {
   "display_name": "Python 3 (ipykernel)",
   "language": "python",
   "name": "python3"
  },
  "language_info": {
   "codemirror_mode": {
    "name": "ipython",
    "version": 3
   },
   "file_extension": ".py",
   "mimetype": "text/x-python",
   "name": "python",
   "nbconvert_exporter": "python",
   "pygments_lexer": "ipython3",
   "version": "3.12.2"
  }
 },
 "nbformat": 4,
 "nbformat_minor": 5
}
